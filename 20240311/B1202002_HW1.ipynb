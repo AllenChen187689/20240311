{
  "nbformat": 4,
  "nbformat_minor": 0,
  "metadata": {
    "colab": {
      "provenance": []
    },
    "kernelspec": {
      "name": "python3",
      "display_name": "Python 3"
    },
    "language_info": {
      "name": "python"
    }
  },
  "cells": [
    {
      "cell_type": "code",
      "execution_count": 2,
      "metadata": {
        "colab": {
          "base_uri": "https://localhost:8080/"
        },
        "id": "gvY9LcNDnK62",
        "outputId": "15eba325-0526-4f8f-8e8e-ffaa9c36dd37"
      },
      "outputs": [
        {
          "output_type": "stream",
          "name": "stdout",
          "text": [
            "I'm a student\n"
          ]
        }
      ],
      "source": [
        "print(\"I'm a student\")"
      ]
    },
    {
      "cell_type": "code",
      "source": [
        "print('請輸入A點座標')\n",
        "x1=int(input('x1='))\n",
        "y1=int(input('y1='))\n",
        "print('請輸入B點座標')\n",
        "x2=int(input('x2='))\n",
        "y2=int(input('y2='))\n",
        "d=(x1-x2)**2+(y1-y2)**2\n",
        "distance=d**0.5\n",
        "print('A點到B點之距離為：',distance)"
      ],
      "metadata": {
        "colab": {
          "base_uri": "https://localhost:8080/"
        },
        "id": "Z8bRuZsj_A1A",
        "outputId": "b0caad3a-f9ae-4b42-ba12-1dcce98fc199"
      },
      "execution_count": 1,
      "outputs": [
        {
          "output_type": "stream",
          "name": "stdout",
          "text": [
            "請輸入A點座標\n",
            "x1=0\n",
            "y1=0\n",
            "請輸入B點座標\n",
            "x2=3\n",
            "y2=4\n",
            "A點到B點之距離為： 5.0\n"
          ]
        }
      ]
    },
    {
      "cell_type": "code",
      "source": [
        "a=int(input('請輸入身高（公分）：'))\n",
        "b=a/100\n",
        "c=int(input('請輸入體重（公斤）：'))\n",
        "d=b**2\n",
        "e=c/d\n",
        "print('BMI=',e)"
      ],
      "metadata": {
        "colab": {
          "base_uri": "https://localhost:8080/"
        },
        "id": "MF_c8x3XChvP",
        "outputId": "0f453908-1bf6-4048-aaf6-57db24545204"
      },
      "execution_count": 4,
      "outputs": [
        {
          "output_type": "stream",
          "name": "stdout",
          "text": [
            "請輸入身高（公分）：155\n",
            "請輸入體重（公斤）：52\n",
            "BMI= 21.64412070759625\n"
          ]
        }
      ]
    }
  ]
}